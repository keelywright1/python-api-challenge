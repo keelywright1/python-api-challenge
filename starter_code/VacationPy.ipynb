{
 "cells": [
  {
   "cell_type": "markdown",
   "metadata": {},
   "source": [
    "# VacationPy\n",
    "----\n",
    "\n",
    "#### Note\n",
    "* Keep an eye on your API usage. Use https://developers.google.com/maps/reporting/gmp-reporting as reference for how to monitor your usage and billing.\n",
    "\n",
    "* Instructions have been included for each segment. You do not have to follow them exactly, but they are included to help you think through the steps."
   ]
  },
  {
   "cell_type": "code",
   "execution_count": 1,
   "metadata": {},
   "outputs": [],
   "source": [
    "# Dependencies and Setup\n",
    "import matplotlib.pyplot as plt\n",
    "import pandas as pd\n",
    "import numpy as np\n",
    "import requests\n",
    "import gmaps\n",
    "import os\n",
    "\n",
    "# Import API key\n",
    "from api_keys import g_key"
   ]
  },
  {
   "cell_type": "markdown",
   "metadata": {},
   "source": [
    "### Store Part I results into DataFrame\n",
    "* Load the csv exported in Part I to a DataFrame"
   ]
  },
  {
   "cell_type": "code",
   "execution_count": 7,
   "metadata": {},
   "outputs": [
    {
     "data": {
      "text/html": [
       "<div>\n",
       "<style scoped>\n",
       "    .dataframe tbody tr th:only-of-type {\n",
       "        vertical-align: middle;\n",
       "    }\n",
       "\n",
       "    .dataframe tbody tr th {\n",
       "        vertical-align: top;\n",
       "    }\n",
       "\n",
       "    .dataframe thead th {\n",
       "        text-align: right;\n",
       "    }\n",
       "</style>\n",
       "<table border=\"1\" class=\"dataframe\">\n",
       "  <thead>\n",
       "    <tr style=\"text-align: right;\">\n",
       "      <th></th>\n",
       "      <th>city</th>\n",
       "      <th>lat</th>\n",
       "      <th>lng</th>\n",
       "      <th>temp</th>\n",
       "      <th>humidity</th>\n",
       "      <th>wind</th>\n",
       "      <th>cloudiness</th>\n",
       "      <th>country</th>\n",
       "      <th>date</th>\n",
       "    </tr>\n",
       "  </thead>\n",
       "  <tbody>\n",
       "    <tr>\n",
       "      <th>0</th>\n",
       "      <td>port hardy</td>\n",
       "      <td>50.6996</td>\n",
       "      <td>-127.4199</td>\n",
       "      <td>51.80</td>\n",
       "      <td>87</td>\n",
       "      <td>3.44</td>\n",
       "      <td>75</td>\n",
       "      <td>CA</td>\n",
       "      <td>Mon Apr 26 19:30:15 2021</td>\n",
       "    </tr>\n",
       "    <tr>\n",
       "      <th>1</th>\n",
       "      <td>lebu</td>\n",
       "      <td>-37.6167</td>\n",
       "      <td>-73.6500</td>\n",
       "      <td>53.38</td>\n",
       "      <td>88</td>\n",
       "      <td>9.53</td>\n",
       "      <td>26</td>\n",
       "      <td>CL</td>\n",
       "      <td>Mon Apr 26 19:29:42 2021</td>\n",
       "    </tr>\n",
       "    <tr>\n",
       "      <th>2</th>\n",
       "      <td>punta arenas</td>\n",
       "      <td>-53.1500</td>\n",
       "      <td>-70.9167</td>\n",
       "      <td>42.80</td>\n",
       "      <td>100</td>\n",
       "      <td>3.44</td>\n",
       "      <td>90</td>\n",
       "      <td>CL</td>\n",
       "      <td>Mon Apr 26 19:35:01 2021</td>\n",
       "    </tr>\n",
       "    <tr>\n",
       "      <th>3</th>\n",
       "      <td>kahului</td>\n",
       "      <td>20.8947</td>\n",
       "      <td>-156.4700</td>\n",
       "      <td>80.60</td>\n",
       "      <td>61</td>\n",
       "      <td>9.22</td>\n",
       "      <td>40</td>\n",
       "      <td>US</td>\n",
       "      <td>Mon Apr 26 19:34:45 2021</td>\n",
       "    </tr>\n",
       "    <tr>\n",
       "      <th>4</th>\n",
       "      <td>ushuaia</td>\n",
       "      <td>-54.8000</td>\n",
       "      <td>-68.3000</td>\n",
       "      <td>42.80</td>\n",
       "      <td>81</td>\n",
       "      <td>2.30</td>\n",
       "      <td>75</td>\n",
       "      <td>AR</td>\n",
       "      <td>Mon Apr 26 19:26:13 2021</td>\n",
       "    </tr>\n",
       "  </tbody>\n",
       "</table>\n",
       "</div>"
      ],
      "text/plain": [
       "           city      lat       lng   temp  humidity  wind  cloudiness country  \\\n",
       "0    port hardy  50.6996 -127.4199  51.80        87  3.44          75      CA   \n",
       "1          lebu -37.6167  -73.6500  53.38        88  9.53          26      CL   \n",
       "2  punta arenas -53.1500  -70.9167  42.80       100  3.44          90      CL   \n",
       "3       kahului  20.8947 -156.4700  80.60        61  9.22          40      US   \n",
       "4       ushuaia -54.8000  -68.3000  42.80        81  2.30          75      AR   \n",
       "\n",
       "                       date  \n",
       "0  Mon Apr 26 19:30:15 2021  \n",
       "1  Mon Apr 26 19:29:42 2021  \n",
       "2  Mon Apr 26 19:35:01 2021  \n",
       "3  Mon Apr 26 19:34:45 2021  \n",
       "4  Mon Apr 26 19:26:13 2021  "
      ]
     },
     "execution_count": 7,
     "metadata": {},
     "output_type": "execute_result"
    }
   ],
   "source": [
    "df = pd.read_csv('output_data/city_data.csv').drop(columns='Unnamed: 0')\n",
    "df.head()"
   ]
  },
  {
   "cell_type": "markdown",
   "metadata": {},
   "source": [
    "### Humidity Heatmap\n",
    "* Configure gmaps.\n",
    "* Use the Lat and Lng as locations and Humidity as the weight.\n",
    "* Add Heatmap layer to map."
   ]
  },
  {
   "cell_type": "code",
   "execution_count": 29,
   "metadata": {},
   "outputs": [
    {
     "data": {
      "application/vnd.jupyter.widget-view+json": {
       "model_id": "dd2e7db6e87f43ada9a7bef602dc1dd5",
       "version_major": 2,
       "version_minor": 0
      },
      "text/plain": [
       "Figure(layout=FigureLayout(height='420px'))"
      ]
     },
     "metadata": {},
     "output_type": "display_data"
    }
   ],
   "source": [
    "gmaps.configure(api_key=g_key)\n",
    "\n",
    "loc = df[['lat','lng']]\n",
    "humidity = df.humidity\n",
    "\n",
    "fig = gmaps.figure(center=(10.0,-5.0),zoom_level=2)\n",
    "heat_layer=gmaps.heatmap_layer(loc,weights=humidity,dissipating=False,max_intensity=300,point_radius=2)\n",
    "fig.add_layer(heat_layer)\n",
    "fig"
   ]
  },
  {
   "cell_type": "markdown",
   "metadata": {},
   "source": [
    "### Create new DataFrame fitting weather criteria\n",
    "* Narrow down the cities to fit weather conditions.\n",
    "* Drop any rows will null values."
   ]
  },
  {
   "cell_type": "code",
   "execution_count": 31,
   "metadata": {},
   "outputs": [
    {
     "data": {
      "text/plain": [
       "546"
      ]
     },
     "execution_count": 31,
     "metadata": {},
     "output_type": "execute_result"
    }
   ],
   "source": [
    "df.city.count()"
   ]
  },
  {
   "cell_type": "code",
   "execution_count": 33,
   "metadata": {},
   "outputs": [],
   "source": [
    "df = df.dropna()"
   ]
  },
  {
   "cell_type": "code",
   "execution_count": 34,
   "metadata": {},
   "outputs": [
    {
     "data": {
      "text/plain": [
       "542"
      ]
     },
     "execution_count": 34,
     "metadata": {},
     "output_type": "execute_result"
    }
   ],
   "source": [
    "df.city.count()"
   ]
  },
  {
   "cell_type": "code",
   "execution_count": 39,
   "metadata": {},
   "outputs": [
    {
     "data": {
      "text/html": [
       "<div>\n",
       "<style scoped>\n",
       "    .dataframe tbody tr th:only-of-type {\n",
       "        vertical-align: middle;\n",
       "    }\n",
       "\n",
       "    .dataframe tbody tr th {\n",
       "        vertical-align: top;\n",
       "    }\n",
       "\n",
       "    .dataframe thead th {\n",
       "        text-align: right;\n",
       "    }\n",
       "</style>\n",
       "<table border=\"1\" class=\"dataframe\">\n",
       "  <thead>\n",
       "    <tr style=\"text-align: right;\">\n",
       "      <th></th>\n",
       "      <th>city</th>\n",
       "      <th>lat</th>\n",
       "      <th>lng</th>\n",
       "      <th>temp</th>\n",
       "      <th>humidity</th>\n",
       "      <th>wind</th>\n",
       "      <th>cloudiness</th>\n",
       "      <th>country</th>\n",
       "      <th>date</th>\n",
       "    </tr>\n",
       "  </thead>\n",
       "  <tbody>\n",
       "    <tr>\n",
       "      <th>116</th>\n",
       "      <td>carnarvon</td>\n",
       "      <td>-24.8667</td>\n",
       "      <td>113.6333</td>\n",
       "      <td>78.80</td>\n",
       "      <td>47</td>\n",
       "      <td>3.44</td>\n",
       "      <td>0</td>\n",
       "      <td>AU</td>\n",
       "      <td>Mon Apr 26 19:30:58 2021</td>\n",
       "    </tr>\n",
       "    <tr>\n",
       "      <th>120</th>\n",
       "      <td>buraydah</td>\n",
       "      <td>26.3260</td>\n",
       "      <td>43.9750</td>\n",
       "      <td>75.20</td>\n",
       "      <td>53</td>\n",
       "      <td>6.91</td>\n",
       "      <td>0</td>\n",
       "      <td>SA</td>\n",
       "      <td>Mon Apr 26 19:36:04 2021</td>\n",
       "    </tr>\n",
       "    <tr>\n",
       "      <th>137</th>\n",
       "      <td>belmonte</td>\n",
       "      <td>-15.8631</td>\n",
       "      <td>-38.8828</td>\n",
       "      <td>75.20</td>\n",
       "      <td>78</td>\n",
       "      <td>5.75</td>\n",
       "      <td>0</td>\n",
       "      <td>BR</td>\n",
       "      <td>Mon Apr 26 19:36:12 2021</td>\n",
       "    </tr>\n",
       "    <tr>\n",
       "      <th>474</th>\n",
       "      <td>muborak</td>\n",
       "      <td>39.2553</td>\n",
       "      <td>65.1528</td>\n",
       "      <td>73.56</td>\n",
       "      <td>33</td>\n",
       "      <td>7.83</td>\n",
       "      <td>0</td>\n",
       "      <td>UZ</td>\n",
       "      <td>Mon Apr 26 19:39:31 2021</td>\n",
       "    </tr>\n",
       "    <tr>\n",
       "      <th>489</th>\n",
       "      <td>ipixuna</td>\n",
       "      <td>-1.7625</td>\n",
       "      <td>-48.8043</td>\n",
       "      <td>78.80</td>\n",
       "      <td>83</td>\n",
       "      <td>2.30</td>\n",
       "      <td>0</td>\n",
       "      <td>BR</td>\n",
       "      <td>Mon Apr 26 19:36:51 2021</td>\n",
       "    </tr>\n",
       "  </tbody>\n",
       "</table>\n",
       "</div>"
      ],
      "text/plain": [
       "          city      lat       lng   temp  humidity  wind  cloudiness country  \\\n",
       "116  carnarvon -24.8667  113.6333  78.80        47  3.44           0      AU   \n",
       "120   buraydah  26.3260   43.9750  75.20        53  6.91           0      SA   \n",
       "137   belmonte -15.8631  -38.8828  75.20        78  5.75           0      BR   \n",
       "474    muborak  39.2553   65.1528  73.56        33  7.83           0      UZ   \n",
       "489    ipixuna  -1.7625  -48.8043  78.80        83  2.30           0      BR   \n",
       "\n",
       "                         date  \n",
       "116  Mon Apr 26 19:30:58 2021  \n",
       "120  Mon Apr 26 19:36:04 2021  \n",
       "137  Mon Apr 26 19:36:12 2021  \n",
       "474  Mon Apr 26 19:39:31 2021  \n",
       "489  Mon Apr 26 19:36:51 2021  "
      ]
     },
     "execution_count": 39,
     "metadata": {},
     "output_type": "execute_result"
    }
   ],
   "source": [
    "hotel_df = df[(df.temp<80)&(df.temp>70)&(df.wind<10)&(df.cloudiness==0)].copy()\n",
    "hotel_df"
   ]
  },
  {
   "cell_type": "markdown",
   "metadata": {},
   "source": [
    "### Hotel Map\n",
    "* Store into variable named `hotel_df`.\n",
    "* Add a \"Hotel Name\" column to the DataFrame.\n",
    "* Set parameters to search for hotels with 5000 meters.\n",
    "* Hit the Google Places API for each city's coordinates.\n",
    "* Store the first Hotel result into the DataFrame.\n",
    "* Plot markers on top of the heatmap."
   ]
  },
  {
   "cell_type": "code",
   "execution_count": 40,
   "metadata": {},
   "outputs": [],
   "source": [
    "hotel_df['Hotel Name'] = ''"
   ]
  },
  {
   "cell_type": "code",
   "execution_count": 42,
   "metadata": {},
   "outputs": [
    {
     "data": {
      "text/html": [
       "<div>\n",
       "<style scoped>\n",
       "    .dataframe tbody tr th:only-of-type {\n",
       "        vertical-align: middle;\n",
       "    }\n",
       "\n",
       "    .dataframe tbody tr th {\n",
       "        vertical-align: top;\n",
       "    }\n",
       "\n",
       "    .dataframe thead th {\n",
       "        text-align: right;\n",
       "    }\n",
       "</style>\n",
       "<table border=\"1\" class=\"dataframe\">\n",
       "  <thead>\n",
       "    <tr style=\"text-align: right;\">\n",
       "      <th></th>\n",
       "      <th>city</th>\n",
       "      <th>lat</th>\n",
       "      <th>lng</th>\n",
       "      <th>temp</th>\n",
       "      <th>humidity</th>\n",
       "      <th>wind</th>\n",
       "      <th>cloudiness</th>\n",
       "      <th>country</th>\n",
       "      <th>date</th>\n",
       "      <th>Hotel Name</th>\n",
       "    </tr>\n",
       "  </thead>\n",
       "  <tbody>\n",
       "    <tr>\n",
       "      <th>116</th>\n",
       "      <td>carnarvon</td>\n",
       "      <td>-24.8667</td>\n",
       "      <td>113.6333</td>\n",
       "      <td>78.80</td>\n",
       "      <td>47</td>\n",
       "      <td>3.44</td>\n",
       "      <td>0</td>\n",
       "      <td>AU</td>\n",
       "      <td>Mon Apr 26 19:30:58 2021</td>\n",
       "      <td></td>\n",
       "    </tr>\n",
       "    <tr>\n",
       "      <th>120</th>\n",
       "      <td>buraydah</td>\n",
       "      <td>26.3260</td>\n",
       "      <td>43.9750</td>\n",
       "      <td>75.20</td>\n",
       "      <td>53</td>\n",
       "      <td>6.91</td>\n",
       "      <td>0</td>\n",
       "      <td>SA</td>\n",
       "      <td>Mon Apr 26 19:36:04 2021</td>\n",
       "      <td></td>\n",
       "    </tr>\n",
       "    <tr>\n",
       "      <th>137</th>\n",
       "      <td>belmonte</td>\n",
       "      <td>-15.8631</td>\n",
       "      <td>-38.8828</td>\n",
       "      <td>75.20</td>\n",
       "      <td>78</td>\n",
       "      <td>5.75</td>\n",
       "      <td>0</td>\n",
       "      <td>BR</td>\n",
       "      <td>Mon Apr 26 19:36:12 2021</td>\n",
       "      <td></td>\n",
       "    </tr>\n",
       "    <tr>\n",
       "      <th>474</th>\n",
       "      <td>muborak</td>\n",
       "      <td>39.2553</td>\n",
       "      <td>65.1528</td>\n",
       "      <td>73.56</td>\n",
       "      <td>33</td>\n",
       "      <td>7.83</td>\n",
       "      <td>0</td>\n",
       "      <td>UZ</td>\n",
       "      <td>Mon Apr 26 19:39:31 2021</td>\n",
       "      <td></td>\n",
       "    </tr>\n",
       "    <tr>\n",
       "      <th>489</th>\n",
       "      <td>ipixuna</td>\n",
       "      <td>-1.7625</td>\n",
       "      <td>-48.8043</td>\n",
       "      <td>78.80</td>\n",
       "      <td>83</td>\n",
       "      <td>2.30</td>\n",
       "      <td>0</td>\n",
       "      <td>BR</td>\n",
       "      <td>Mon Apr 26 19:36:51 2021</td>\n",
       "      <td></td>\n",
       "    </tr>\n",
       "  </tbody>\n",
       "</table>\n",
       "</div>"
      ],
      "text/plain": [
       "          city      lat       lng   temp  humidity  wind  cloudiness country  \\\n",
       "116  carnarvon -24.8667  113.6333  78.80        47  3.44           0      AU   \n",
       "120   buraydah  26.3260   43.9750  75.20        53  6.91           0      SA   \n",
       "137   belmonte -15.8631  -38.8828  75.20        78  5.75           0      BR   \n",
       "474    muborak  39.2553   65.1528  73.56        33  7.83           0      UZ   \n",
       "489    ipixuna  -1.7625  -48.8043  78.80        83  2.30           0      BR   \n",
       "\n",
       "                         date Hotel Name  \n",
       "116  Mon Apr 26 19:30:58 2021             \n",
       "120  Mon Apr 26 19:36:04 2021             \n",
       "137  Mon Apr 26 19:36:12 2021             \n",
       "474  Mon Apr 26 19:39:31 2021             \n",
       "489  Mon Apr 26 19:36:51 2021             "
      ]
     },
     "execution_count": 42,
     "metadata": {},
     "output_type": "execute_result"
    }
   ],
   "source": [
    "hotel_df.head()"
   ]
  },
  {
   "cell_type": "code",
   "execution_count": 45,
   "metadata": {},
   "outputs": [
    {
     "name": "stdout",
     "output_type": "stream",
     "text": [
      "city                         carnarvon\n",
      "lat                           -24.8667\n",
      "lng                            113.633\n",
      "temp                              78.8\n",
      "humidity                            47\n",
      "wind                              3.44\n",
      "cloudiness                           0\n",
      "country                             AU\n",
      "date          Mon Apr 26 19:30:58 2021\n",
      "Hotel Name                            \n",
      "Name: 116, dtype: object\n",
      "city                          buraydah\n",
      "lat                             26.326\n",
      "lng                             43.975\n",
      "temp                              75.2\n",
      "humidity                            53\n",
      "wind                              6.91\n",
      "cloudiness                           0\n",
      "country                             SA\n",
      "date          Mon Apr 26 19:36:04 2021\n",
      "Hotel Name                            \n",
      "Name: 120, dtype: object\n",
      "city                          belmonte\n",
      "lat                           -15.8631\n",
      "lng                           -38.8828\n",
      "temp                              75.2\n",
      "humidity                            78\n",
      "wind                              5.75\n",
      "cloudiness                           0\n",
      "country                             BR\n",
      "date          Mon Apr 26 19:36:12 2021\n",
      "Hotel Name                            \n",
      "Name: 137, dtype: object\n",
      "city                           muborak\n",
      "lat                            39.2553\n",
      "lng                            65.1528\n",
      "temp                             73.56\n",
      "humidity                            33\n",
      "wind                              7.83\n",
      "cloudiness                           0\n",
      "country                             UZ\n",
      "date          Mon Apr 26 19:39:31 2021\n",
      "Hotel Name                            \n",
      "Name: 474, dtype: object\n",
      "city                           ipixuna\n",
      "lat                            -1.7625\n",
      "lng                           -48.8043\n",
      "temp                              78.8\n",
      "humidity                            83\n",
      "wind                               2.3\n",
      "cloudiness                           0\n",
      "country                             BR\n",
      "date          Mon Apr 26 19:36:51 2021\n",
      "Hotel Name                            \n",
      "Name: 489, dtype: object\n"
     ]
    }
   ],
   "source": [
    "params={\n",
    "    'radius':5000,\n",
    "    'types':'lodging',\n",
    "    'key':g_key\n",
    "}\n",
    "\n",
    "for i,row in hotel_df.iterrows():\n",
    "    \n",
    "    url='https://maps.googleapis.com/maps/api/place/nearbysearch/json?'\n",
    "    params['location'] = f'{row.lat}, {row.lng}'\n",
    "    res = requests"
   ]
  },
  {
   "cell_type": "code",
   "execution_count": null,
   "metadata": {},
   "outputs": [],
   "source": [
    "# NOTE: Do not change any of the code in this cell\n",
    "\n",
    "# Using the template add the hotel marks to the heatmap\n",
    "info_box_template = \"\"\"\n",
    "<dl>\n",
    "<dt>Name</dt><dd>{Hotel Name}</dd>\n",
    "<dt>City</dt><dd>{City}</dd>\n",
    "<dt>Country</dt><dd>{Country}</dd>\n",
    "</dl>\n",
    "\"\"\"\n",
    "# Store the DataFrame Row\n",
    "# NOTE: be sure to update with your DataFrame name\n",
    "hotel_info = [info_box_template.format(**row) for index, row in hotel_df.iterrows()]\n",
    "locations = hotel_df[[\"Lat\", \"Lng\"]]"
   ]
  },
  {
   "cell_type": "code",
   "execution_count": null,
   "metadata": {},
   "outputs": [],
   "source": [
    "# Add marker layer ontop of heat map\n",
    "\n",
    "\n",
    "# Display figure\n"
   ]
  },
  {
   "cell_type": "code",
   "execution_count": null,
   "metadata": {},
   "outputs": [],
   "source": []
  }
 ],
 "metadata": {
  "kernelspec": {
   "display_name": "Python 3",
   "language": "python",
   "name": "python3"
  },
  "language_info": {
   "codemirror_mode": {
    "name": "ipython",
    "version": 3
   },
   "file_extension": ".py",
   "mimetype": "text/x-python",
   "name": "python",
   "nbconvert_exporter": "python",
   "pygments_lexer": "ipython3",
   "version": "3.8.5"
  },
  "latex_envs": {
   "LaTeX_envs_menu_present": true,
   "autoclose": false,
   "autocomplete": true,
   "bibliofile": "biblio.bib",
   "cite_by": "apalike",
   "current_citInitial": 1,
   "eqLabelWithNumbers": true,
   "eqNumInitial": 1,
   "hotkeys": {
    "equation": "Ctrl-E",
    "itemize": "Ctrl-I"
   },
   "labels_anchors": false,
   "latex_user_defs": false,
   "report_style_numbering": false,
   "user_envs_cfg": false
  }
 },
 "nbformat": 4,
 "nbformat_minor": 4
}
